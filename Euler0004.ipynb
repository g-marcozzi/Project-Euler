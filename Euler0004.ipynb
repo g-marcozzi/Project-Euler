{
 "cells": [
  {
   "cell_type": "markdown",
   "metadata": {},
   "source": [
    "# Double for loop\n",
    "Seems pretty fast but the mathetics behind is not really intuitive."
   ]
  },
  {
   "cell_type": "code",
   "execution_count": 52,
   "metadata": {},
   "outputs": [],
   "source": [
    "def is_pali(N):\n",
    "    #k is palindromic: return 1\n",
    "    #otherwise: return 0\n",
    "    for i in range(0,int(len(str(N))/2)):\n",
    "        if str(N)[i] != str(N)[-i-1]:\n",
    "            return 0\n",
    "    return 1"
   ]
  },
  {
   "cell_type": "code",
   "execution_count": 58,
   "metadata": {},
   "outputs": [],
   "source": [
    "def f2(N):\n",
    "    for i in range(0, N):\n",
    "        for k in range(i%2, i):\n",
    "            if is_pali(int(N - i/2 - k/2) * int(N - i/2 + k/2)):\n",
    "                return int(N - i/2 - k/2), int(N - i/2 + k/2), int(N - i/2 - k/2) * int(N - i/2 + k/2)"
   ]
  },
  {
   "cell_type": "code",
   "execution_count": 61,
   "metadata": {},
   "outputs": [
    {
     "data": {
      "text/plain": [
       "(913, 993, 906609)"
      ]
     },
     "execution_count": 61,
     "metadata": {},
     "output_type": "execute_result"
    }
   ],
   "source": [
    "f2(999)"
   ]
  }
 ],
 "metadata": {
  "kernelspec": {
   "display_name": "Python 3",
   "language": "python",
   "name": "python3"
  },
  "language_info": {
   "codemirror_mode": {
    "name": "ipython",
    "version": 3
   },
   "file_extension": ".py",
   "mimetype": "text/x-python",
   "name": "python",
   "nbconvert_exporter": "python",
   "pygments_lexer": "ipython3",
   "version": "3.8.5"
  }
 },
 "nbformat": 4,
 "nbformat_minor": 4
}

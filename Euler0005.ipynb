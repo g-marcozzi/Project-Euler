{
 "cells": [
  {
   "cell_type": "markdown",
   "metadata": {},
   "source": [
    "# Ugly function\n",
    "There are too many empty lists initiated."
   ]
  },
  {
   "cell_type": "code",
   "execution_count": 2,
   "metadata": {},
   "outputs": [],
   "source": [
    "def is_prime(k):\n",
    "    #k is prime: return 1\n",
    "    #otherwise: return 0\n",
    "    for i in range(2,k):\n",
    "        if not k%i:\n",
    "            return 0\n",
    "    return 1"
   ]
  },
  {
   "cell_type": "code",
   "execution_count": 5,
   "metadata": {},
   "outputs": [],
   "source": [
    "#not used here\n",
    "def prime_factors(N):\n",
    "    l1 = []\n",
    "    for i in range(2,N):\n",
    "        while is_prime(i) and not N%i:\n",
    "            N = int(N/i)\n",
    "            l1.append(i)\n",
    "    return(l1)"
   ]
  },
  {
   "cell_type": "code",
   "execution_count": 67,
   "metadata": {},
   "outputs": [],
   "source": [
    "def list_mul(l):\n",
    "    if l == []:\n",
    "        return 0\n",
    "    m = 1\n",
    "    for N in l:\n",
    "        m *= N\n",
    "    return m"
   ]
  },
  {
   "cell_type": "code",
   "execution_count": 68,
   "metadata": {},
   "outputs": [],
   "source": [
    "def min_com_multiple(l):\n",
    "    if l == []:\n",
    "        return 0\n",
    "    l1 = []\n",
    "    for i in range(2,max(l)+1):\n",
    "        if is_prime(i):\n",
    "            temp1 = []\n",
    "            for N in l:\n",
    "                temp2 = []\n",
    "                while not N%i:\n",
    "                    N = int(N/i)\n",
    "                    temp2.append(i)\n",
    "                if len(temp2)>len(temp1):\n",
    "                    temp1 = temp2\n",
    "            l1 += temp1\n",
    "    return(l1)"
   ]
  },
  {
   "cell_type": "code",
   "execution_count": 71,
   "metadata": {},
   "outputs": [
    {
     "data": {
      "text/plain": [
       "232792560"
      ]
     },
     "execution_count": 71,
     "metadata": {},
     "output_type": "execute_result"
    }
   ],
   "source": [
    "list_mul(min_com_multiple(range(2,21)))"
   ]
  }
 ],
 "metadata": {
  "kernelspec": {
   "display_name": "Python 3",
   "language": "python",
   "name": "python3"
  },
  "language_info": {
   "codemirror_mode": {
    "name": "ipython",
    "version": 3
   },
   "file_extension": ".py",
   "mimetype": "text/x-python",
   "name": "python",
   "nbconvert_exporter": "python",
   "pygments_lexer": "ipython3",
   "version": "3.8.5"
  }
 },
 "nbformat": 4,
 "nbformat_minor": 4
}
